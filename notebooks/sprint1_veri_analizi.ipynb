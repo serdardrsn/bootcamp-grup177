{
 "cells": [
  {
   "cell_type": "code",
   "execution_count": 10,
   "id": "8dfcf11b-a63b-45f9-9cb1-b51a429a8045",
   "metadata": {},
   "outputs": [
    {
     "data": {
      "text/html": [
       "<div>\n",
       "<style scoped>\n",
       "    .dataframe tbody tr th:only-of-type {\n",
       "        vertical-align: middle;\n",
       "    }\n",
       "\n",
       "    .dataframe tbody tr th {\n",
       "        vertical-align: top;\n",
       "    }\n",
       "\n",
       "    .dataframe thead th {\n",
       "        text-align: right;\n",
       "    }\n",
       "</style>\n",
       "<table border=\"1\" class=\"dataframe\">\n",
       "  <thead>\n",
       "    <tr style=\"text-align: right;\">\n",
       "      <th></th>\n",
       "      <th>Group</th>\n",
       "      <th>Sex</th>\n",
       "      <th>Age</th>\n",
       "      <th>Patients number per hour</th>\n",
       "      <th>Arrival mode</th>\n",
       "      <th>Injury</th>\n",
       "      <th>Chief_complain</th>\n",
       "      <th>Mental</th>\n",
       "      <th>Pain</th>\n",
       "      <th>NRS_pain</th>\n",
       "      <th>...</th>\n",
       "      <th>BT</th>\n",
       "      <th>Saturation</th>\n",
       "      <th>KTAS_RN</th>\n",
       "      <th>Diagnosis in ED</th>\n",
       "      <th>Disposition</th>\n",
       "      <th>KTAS_expert</th>\n",
       "      <th>Error_group</th>\n",
       "      <th>Length of stay_min</th>\n",
       "      <th>KTAS duration_min</th>\n",
       "      <th>mistriage</th>\n",
       "    </tr>\n",
       "  </thead>\n",
       "  <tbody>\n",
       "    <tr>\n",
       "      <th>0</th>\n",
       "      <td>2</td>\n",
       "      <td>2</td>\n",
       "      <td>71</td>\n",
       "      <td>3</td>\n",
       "      <td>3</td>\n",
       "      <td>2</td>\n",
       "      <td>right ocular pain</td>\n",
       "      <td>1</td>\n",
       "      <td>1</td>\n",
       "      <td>2</td>\n",
       "      <td>...</td>\n",
       "      <td>36.6</td>\n",
       "      <td>100</td>\n",
       "      <td>2</td>\n",
       "      <td>Corneal abrasion</td>\n",
       "      <td>1</td>\n",
       "      <td>4</td>\n",
       "      <td>2</td>\n",
       "      <td>86</td>\n",
       "      <td>5.00</td>\n",
       "      <td>1</td>\n",
       "    </tr>\n",
       "    <tr>\n",
       "      <th>1</th>\n",
       "      <td>1</td>\n",
       "      <td>1</td>\n",
       "      <td>56</td>\n",
       "      <td>12</td>\n",
       "      <td>3</td>\n",
       "      <td>2</td>\n",
       "      <td>right forearm burn</td>\n",
       "      <td>1</td>\n",
       "      <td>1</td>\n",
       "      <td>2</td>\n",
       "      <td>...</td>\n",
       "      <td>36.5</td>\n",
       "      <td>NaN</td>\n",
       "      <td>4</td>\n",
       "      <td>Burn of hand, firts degree dorsum</td>\n",
       "      <td>1</td>\n",
       "      <td>5</td>\n",
       "      <td>4</td>\n",
       "      <td>64</td>\n",
       "      <td>3.95</td>\n",
       "      <td>1</td>\n",
       "    </tr>\n",
       "    <tr>\n",
       "      <th>2</th>\n",
       "      <td>2</td>\n",
       "      <td>1</td>\n",
       "      <td>68</td>\n",
       "      <td>8</td>\n",
       "      <td>2</td>\n",
       "      <td>2</td>\n",
       "      <td>arm pain, Lt</td>\n",
       "      <td>1</td>\n",
       "      <td>1</td>\n",
       "      <td>2</td>\n",
       "      <td>...</td>\n",
       "      <td>36.6</td>\n",
       "      <td>98</td>\n",
       "      <td>4</td>\n",
       "      <td>Fracture of surgical neck of humerus, closed</td>\n",
       "      <td>2</td>\n",
       "      <td>5</td>\n",
       "      <td>4</td>\n",
       "      <td>862</td>\n",
       "      <td>1.00</td>\n",
       "      <td>1</td>\n",
       "    </tr>\n",
       "    <tr>\n",
       "      <th>3</th>\n",
       "      <td>1</td>\n",
       "      <td>2</td>\n",
       "      <td>71</td>\n",
       "      <td>8</td>\n",
       "      <td>1</td>\n",
       "      <td>1</td>\n",
       "      <td>ascites tapping</td>\n",
       "      <td>1</td>\n",
       "      <td>1</td>\n",
       "      <td>3</td>\n",
       "      <td>...</td>\n",
       "      <td>36.5</td>\n",
       "      <td>NaN</td>\n",
       "      <td>4</td>\n",
       "      <td>Alcoholic liver cirrhosis with ascites</td>\n",
       "      <td>1</td>\n",
       "      <td>5</td>\n",
       "      <td>6</td>\n",
       "      <td>108</td>\n",
       "      <td>9.83</td>\n",
       "      <td>1</td>\n",
       "    </tr>\n",
       "    <tr>\n",
       "      <th>4</th>\n",
       "      <td>1</td>\n",
       "      <td>2</td>\n",
       "      <td>58</td>\n",
       "      <td>4</td>\n",
       "      <td>3</td>\n",
       "      <td>1</td>\n",
       "      <td>distension, abd</td>\n",
       "      <td>1</td>\n",
       "      <td>1</td>\n",
       "      <td>3</td>\n",
       "      <td>...</td>\n",
       "      <td>36.5</td>\n",
       "      <td>NaN</td>\n",
       "      <td>4</td>\n",
       "      <td>Ascites</td>\n",
       "      <td>1</td>\n",
       "      <td>5</td>\n",
       "      <td>8</td>\n",
       "      <td>109</td>\n",
       "      <td>6.60</td>\n",
       "      <td>1</td>\n",
       "    </tr>\n",
       "  </tbody>\n",
       "</table>\n",
       "<p>5 rows × 24 columns</p>\n",
       "</div>"
      ],
      "text/plain": [
       "   Group  Sex  Age  Patients number per hour  Arrival mode  Injury  \\\n",
       "0      2    2   71                         3             3       2   \n",
       "1      1    1   56                        12             3       2   \n",
       "2      2    1   68                         8             2       2   \n",
       "3      1    2   71                         8             1       1   \n",
       "4      1    2   58                         4             3       1   \n",
       "\n",
       "       Chief_complain  Mental  Pain NRS_pain  ...    BT Saturation KTAS_RN  \\\n",
       "0   right ocular pain       1     1        2  ...  36.6        100       2   \n",
       "1  right forearm burn       1     1        2  ...  36.5        NaN       4   \n",
       "2        arm pain, Lt       1     1        2  ...  36.6         98       4   \n",
       "3     ascites tapping       1     1        3  ...  36.5        NaN       4   \n",
       "4     distension, abd       1     1        3  ...  36.5        NaN       4   \n",
       "\n",
       "                                Diagnosis in ED Disposition KTAS_expert  \\\n",
       "0                              Corneal abrasion           1           4   \n",
       "1             Burn of hand, firts degree dorsum           1           5   \n",
       "2  Fracture of surgical neck of humerus, closed           2           5   \n",
       "3        Alcoholic liver cirrhosis with ascites           1           5   \n",
       "4                                       Ascites           1           5   \n",
       "\n",
       "   Error_group Length of stay_min  KTAS duration_min  mistriage  \n",
       "0            2                 86               5.00          1  \n",
       "1            4                 64               3.95          1  \n",
       "2            4                862               1.00          1  \n",
       "3            6                108               9.83          1  \n",
       "4            8                109               6.60          1  \n",
       "\n",
       "[5 rows x 24 columns]"
      ]
     },
     "execution_count": 10,
     "metadata": {},
     "output_type": "execute_result"
    }
   ],
   "source": [
    "import pandas as pd\n",
    "\n",
    "# Noktalı virgül (;) ayracı, ondalık virgül (,) ve Latin1 encoding ile dosyayı oku\n",
    "df = pd.read_csv(\"data.csv\", sep=\";\", encoding=\"latin1\", decimal=\",\")\n",
    "\n",
    "# İlk 5 satırı göster\n",
    "df.head()\n"
   ]
  },
  {
   "cell_type": "code",
   "execution_count": 12,
   "id": "8bf83bd9-8cd6-4ecb-b2eb-b66e6e8c3846",
   "metadata": {},
   "outputs": [
    {
     "name": "stdout",
     "output_type": "stream",
     "text": [
      "<class 'pandas.core.frame.DataFrame'>\n",
      "RangeIndex: 1267 entries, 0 to 1266\n",
      "Data columns (total 24 columns):\n",
      " #   Column                    Non-Null Count  Dtype  \n",
      "---  ------                    --------------  -----  \n",
      " 0   Group                     1267 non-null   int64  \n",
      " 1   Sex                       1267 non-null   int64  \n",
      " 2   Age                       1267 non-null   int64  \n",
      " 3   Patients number per hour  1267 non-null   int64  \n",
      " 4   Arrival mode              1267 non-null   int64  \n",
      " 5   Injury                    1267 non-null   int64  \n",
      " 6   Chief_complain            1267 non-null   object \n",
      " 7   Mental                    1267 non-null   int64  \n",
      " 8   Pain                      1267 non-null   int64  \n",
      " 9   NRS_pain                  1267 non-null   object \n",
      " 10  SBP                       1267 non-null   object \n",
      " 11  DBP                       1267 non-null   object \n",
      " 12  HR                        1267 non-null   object \n",
      " 13  RR                        1267 non-null   object \n",
      " 14  BT                        1267 non-null   object \n",
      " 15  Saturation                579 non-null    object \n",
      " 16  KTAS_RN                   1267 non-null   int64  \n",
      " 17  Diagnosis in ED           1265 non-null   object \n",
      " 18  Disposition               1267 non-null   int64  \n",
      " 19  KTAS_expert               1267 non-null   int64  \n",
      " 20  Error_group               1267 non-null   int64  \n",
      " 21  Length of stay_min        1267 non-null   int64  \n",
      " 22  KTAS duration_min         1267 non-null   float64\n",
      " 23  mistriage                 1267 non-null   int64  \n",
      "dtypes: float64(1), int64(14), object(9)\n",
      "memory usage: 237.7+ KB\n"
     ]
    }
   ],
   "source": [
    "df.info()\n"
   ]
  },
  {
   "cell_type": "code",
   "execution_count": 14,
   "id": "93629222-b733-4a02-b2aa-da657ee50185",
   "metadata": {},
   "outputs": [
    {
     "name": "stdout",
     "output_type": "stream",
     "text": [
      "Eksik değer sayısı:\n",
      " Saturation                  688\n",
      "Diagnosis in ED               2\n",
      "Group                         0\n",
      "Sex                           0\n",
      "KTAS duration_min             0\n",
      "Length of stay_min            0\n",
      "Error_group                   0\n",
      "KTAS_expert                   0\n",
      "Disposition                   0\n",
      "KTAS_RN                       0\n",
      "BT                            0\n",
      "RR                            0\n",
      "HR                            0\n",
      "DBP                           0\n",
      "SBP                           0\n",
      "NRS_pain                      0\n",
      "Pain                          0\n",
      "Mental                        0\n",
      "Chief_complain                0\n",
      "Injury                        0\n",
      "Arrival mode                  0\n",
      "Patients number per hour      0\n",
      "Age                           0\n",
      "mistriage                     0\n",
      "dtype: int64\n",
      "\n",
      "Object tipindeki sütunlar:\n",
      " Index(['Chief_complain', 'NRS_pain', 'SBP', 'DBP', 'HR', 'RR', 'BT',\n",
      "       'Saturation', 'Diagnosis in ED'],\n",
      "      dtype='object')\n"
     ]
    }
   ],
   "source": [
    "# 1. Eksik değer sayısı her sütun için\n",
    "missing_summary = df.isnull().sum().sort_values(ascending=False)\n",
    "print(\"Eksik değer sayısı:\\n\", missing_summary)\n",
    "\n",
    "# 2. Object olup sayısal olması gereken sütunlar\n",
    "object_columns = df.select_dtypes(include=\"object\").columns\n",
    "print(\"\\nObject tipindeki sütunlar:\\n\", object_columns)\n"
   ]
  },
  {
   "cell_type": "code",
   "execution_count": 16,
   "id": "f80a8c72-a82c-447a-a679-1eb11be9544f",
   "metadata": {},
   "outputs": [],
   "source": [
    "def ktas_to_class(ktas_value):\n",
    "    if ktas_value in [1, 2]:\n",
    "        return \"Kırmızı\"\n",
    "    elif ktas_value == 3:\n",
    "        return \"Sarı\"\n",
    "    elif ktas_value in [4, 5]:\n",
    "        return \"Yeşil\"\n",
    "    else:\n",
    "        return \"Bilinmiyor\"\n"
   ]
  },
  {
   "cell_type": "code",
   "execution_count": 18,
   "id": "420bac45-b08d-4e18-82d6-176e083954a3",
   "metadata": {},
   "outputs": [],
   "source": [
    "df[\"ktas_class\"] = df[\"KTAS_RN\"].apply(ktas_to_class)\n"
   ]
  },
  {
   "cell_type": "code",
   "execution_count": 20,
   "id": "269b4616-ad66-4c59-aea2-657fd4c5c968",
   "metadata": {},
   "outputs": [
    {
     "data": {
      "text/plain": [
       "ktas_class\n",
       "Yeşil      588\n",
       "Sarı       447\n",
       "Kırmızı    232\n",
       "Name: count, dtype: int64"
      ]
     },
     "execution_count": 20,
     "metadata": {},
     "output_type": "execute_result"
    }
   ],
   "source": [
    "df[\"ktas_class\"].value_counts()\n"
   ]
  },
  {
   "cell_type": "code",
   "execution_count": 22,
   "id": "7ad6ba80-c675-4301-b062-e59452eb6f05",
   "metadata": {},
   "outputs": [
    {
     "name": "stderr",
     "output_type": "stream",
     "text": [
      "Matplotlib is building the font cache; this may take a moment.\n"
     ]
    },
    {
     "data": {
      "image/png": "[encoded data removed]",
      "text/plain": [
       "<Figure size 640x480 with 1 Axes>"
      ]
     },
     "metadata": {},
     "output_type": "display_data"
    }
   ],
   "source": [
    "import matplotlib.pyplot as plt\n",
    "\n",
    "df[\"ktas_class\"].value_counts().plot(kind=\"bar\", color=[\"red\", \"orange\", \"green\"])\n",
    "plt.title(\"KTAS Sınıf Dağılımı\")\n",
    "plt.xlabel(\"KTAS Sınıfı\")\n",
    "plt.ylabel(\"Hasta Sayısı\")\n",
    "plt.grid(axis=\"y\", linestyle=\"--\", alpha=0.6)\n",
    "plt.show()\n"
   ]
  },
  {
   "cell_type": "code",
   "execution_count": 24,
   "id": "2eae1efd-54aa-48cf-91cb-532bc4c395a4",
   "metadata": {},
   "outputs": [
    {
     "name": "stdout",
     "output_type": "stream",
     "text": [
      "Sayısal sütunlar:\n",
      " ['Group', 'Sex', 'Age', 'Patients number per hour', 'Arrival mode', 'Injury', 'Mental', 'Pain', 'KTAS_RN', 'Disposition', 'KTAS_expert', 'Error_group', 'Length of stay_min', 'KTAS duration_min', 'mistriage']\n",
      "\n",
      "Kategorik (object) sütunlar:\n",
      " ['Chief_complain', 'NRS_pain', 'SBP', 'DBP', 'HR', 'RR', 'BT', 'Saturation', 'Diagnosis in ED', 'ktas_class']\n"
     ]
    }
   ],
   "source": [
    "numerical_cols = df.select_dtypes(include=[\"int64\", \"float64\"]).columns.tolist()\n",
    "categorical_cols = df.select_dtypes(include=\"object\").columns.tolist()\n",
    "\n",
    "print(\"Sayısal sütunlar:\\n\", numerical_cols)\n",
    "print(\"\\nKategorik (object) sütunlar:\\n\", categorical_cols)\n"
   ]
  },
  {
   "cell_type": "code",
   "execution_count": 26,
   "id": "d06d059f-fc04-485c-b30e-0dafa1503426",
   "metadata": {},
   "outputs": [],
   "source": [
    "for col in [\"SBP\", \"DBP\", \"HR\", \"RR\", \"BT\", \"Saturation\"]:\n",
    "    df[col] = pd.to_numeric(df[col], errors=\"coerce\")\n"
   ]
  },
  {
   "cell_type": "code",
   "execution_count": 28,
   "id": "b607d3ba-cce7-4a0e-b936-ef4b7ff36a64",
   "metadata": {},
   "outputs": [],
   "source": [
    "df_encoded = pd.get_dummies(df, columns=[\"Sex\", \"Arrival mode\", \"Injury\", \"Mental\", \"Pain\", \"NRS_pain\"])\n"
   ]
  },
  {
   "cell_type": "code",
   "execution_count": 30,
   "id": "e8e70d35-765e-4dad-9660-750e034c9a36",
   "metadata": {},
   "outputs": [],
   "source": [
    "def calculate_risk(row):\n",
    "    risk = 0\n",
    "    if row[\"BT\"] >= 38: risk += 1\n",
    "    if row[\"HR\"] >= 100: risk += 1\n",
    "    if row[\"Age\"] >= 70: risk += 1\n",
    "    return risk\n",
    "\n",
    "df[\"risk_score\"] = df.apply(calculate_risk, axis=1)\n"
   ]
  },
  {
   "cell_type": "code",
   "execution_count": 32,
   "id": "9c4df221-4593-44a9-8d3f-9d0864d5286d",
   "metadata": {},
   "outputs": [
    {
     "data": {
      "text/html": [
       "<div>\n",
       "<style scoped>\n",
       "    .dataframe tbody tr th:only-of-type {\n",
       "        vertical-align: middle;\n",
       "    }\n",
       "\n",
       "    .dataframe tbody tr th {\n",
       "        vertical-align: top;\n",
       "    }\n",
       "\n",
       "    .dataframe thead th {\n",
       "        text-align: right;\n",
       "    }\n",
       "</style>\n",
       "<table border=\"1\" class=\"dataframe\">\n",
       "  <thead>\n",
       "    <tr style=\"text-align: right;\">\n",
       "      <th></th>\n",
       "      <th>Age</th>\n",
       "      <th>BT</th>\n",
       "      <th>HR</th>\n",
       "      <th>risk_score</th>\n",
       "    </tr>\n",
       "  </thead>\n",
       "  <tbody>\n",
       "    <tr>\n",
       "      <th>0</th>\n",
       "      <td>71</td>\n",
       "      <td>36.6</td>\n",
       "      <td>84.0</td>\n",
       "      <td>1</td>\n",
       "    </tr>\n",
       "    <tr>\n",
       "      <th>1</th>\n",
       "      <td>56</td>\n",
       "      <td>36.5</td>\n",
       "      <td>60.0</td>\n",
       "      <td>0</td>\n",
       "    </tr>\n",
       "    <tr>\n",
       "      <th>2</th>\n",
       "      <td>68</td>\n",
       "      <td>36.6</td>\n",
       "      <td>102.0</td>\n",
       "      <td>1</td>\n",
       "    </tr>\n",
       "    <tr>\n",
       "      <th>3</th>\n",
       "      <td>71</td>\n",
       "      <td>36.5</td>\n",
       "      <td>88.0</td>\n",
       "      <td>1</td>\n",
       "    </tr>\n",
       "    <tr>\n",
       "      <th>4</th>\n",
       "      <td>58</td>\n",
       "      <td>36.5</td>\n",
       "      <td>93.0</td>\n",
       "      <td>0</td>\n",
       "    </tr>\n",
       "  </tbody>\n",
       "</table>\n",
       "</div>"
      ],
      "text/plain": [
       "   Age    BT     HR  risk_score\n",
       "0   71  36.6   84.0           1\n",
       "1   56  36.5   60.0           0\n",
       "2   68  36.6  102.0           1\n",
       "3   71  36.5   88.0           1\n",
       "4   58  36.5   93.0           0"
      ]
     },
     "execution_count": 32,
     "metadata": {},
     "output_type": "execute_result"
    }
   ],
   "source": [
    "df[[\"Age\", \"BT\", \"HR\", \"risk_score\"]].head()\n"
   ]
  },
  {
   "cell_type": "code",
   "execution_count": null,
   "id": "b2f8f374-21a5-47eb-93ec-a076213c6c57",
   "metadata": {},
   "outputs": [],
   "source": []
  }
 ],
 "metadata": {
  "kernelspec": {
   "display_name": "Python [conda env:base] *",
   "language": "python",
   "name": "conda-base-py"
  },
  "language_info": {
   "codemirror_mode": {
    "name": "ipython",
    "version": 3
   },
   "file_extension": ".py",
   "mimetype": "text/x-python",
   "name": "python",
   "nbconvert_exporter": "python",
   "pygments_lexer": "ipython3",
   "version": "3.12.7"
  }
 },
 "nbformat": 4,
 "nbformat_minor": 5
}
