{
 "cells": [
  {
   "cell_type": "code",
   "execution_count": 1,
   "id": "4bc876a0-e5d9-4a4e-82a0-7fa00afa0b29",
   "metadata": {},
   "outputs": [],
   "source": [
    "def create_prompt(data):\n",
    "    return f\"\"\"\n",
    "Bir hasta acil servise başvurmuştur. Şikayeti: \"{data['chief_complaint']}\". Vital bulguları:\n",
    "\n",
    "- Yaş: {data['age']}\n",
    "- Sistolik Kan Basıncı (SBP): {data['sbp']} mmHg\n",
    "- Diyastolik Kan Basıncı (DBP): {data['dbp']} mmHg\n",
    "- Nabız (HR): {data['hr']} bpm\n",
    "- Solunum Hızı (RR): {data['rr']} /dk\n",
    "- Vücut Isısı (BT): {data['bt']} °C\n",
    "- Bilinç Durumu: {data['mental']}\n",
    "- Cinsiyet: {data['sex']}\n",
    "- Geliş Şekli: {data['arrival_mode']}\n",
    "- Travma: {data['injury']}\n",
    "- Ağrı Seviyesi: {data['pain']} / 10\n",
    "\n",
    "Yukarıdaki verilere göre bu hastanın KTAS (Acil Müdahale) seviyesini belirle.  \n",
    "Cevabını sadece şu şekilde ver: **Kırmızı**, **Sarı** ya da **Yeşil**.\n",
    "KTAS seviyesine göre nedenini belirten açıklamasını yaz.\n",
    "\"\"\"\n"
   ]
  },
  {
   "cell_type": "code",
   "execution_count": null,
   "id": "865b4433-1f7e-4de5-acb9-19842ea4beb6",
   "metadata": {},
   "outputs": [],
   "source": []
  }
 ],
 "metadata": {
  "kernelspec": {
   "display_name": "Python 3 (ipykernel)",
   "language": "python",
   "name": "python3"
  },
  "language_info": {
   "codemirror_mode": {
    "name": "ipython",
    "version": 3
   },
   "file_extension": ".py",
   "mimetype": "text/x-python",
   "name": "python",
   "nbconvert_exporter": "python",
   "pygments_lexer": "ipython3",
   "version": "3.12.10"
  }
 },
 "nbformat": 4,
 "nbformat_minor": 5
}
