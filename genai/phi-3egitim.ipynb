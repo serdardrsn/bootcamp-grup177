{
 "cells": [
  {
   "cell_type": "code",
   "execution_count": 13,
   "id": "cb13b180-0a9d-469c-ba19-3458213f808c",
   "metadata": {},
   "outputs": [
    {
     "name": "stdout",
     "output_type": "stream",
     "text": [
      "Model Cevabı:\n",
      " Türkçeyi öğreniyorum! Lütfen bunun sadece bir söz konusundaki gibi ayırdığını düşünülmelidir ama bu durumu kullanmayacağım.\n",
      "Hastalar, anlamlara bağladıkça daha fazla bilgi alabilmektedir.\"\"\"\n",
      "output = \"\"\"Göğüs ağrısı\" (65yo male) - Systolik 85/Diabatic 60 mmHg /Nasal:110 bpm /CO2Sat:38.2 C /Blood Pressure:\"8\"/Status\":\"Alive\"/Prognosis:\"Ambulant\"/\"Male\"\"\n",
      "Göğüs ağrısı (65yo male) - Systolik \n"
     ]
    }
   ],
   "source": [
    "from gpt4all import GPT4All\n",
    "\n",
    "model_path = r\"C:\\Users\\erene\\AppData\\Local\\nomic.ai\\GPT4All\\Phi-3-mini-4k-instruct.Q4_0.gguf\"\n",
    "model = GPT4All(model_path)\n",
    "\n",
    "prompt = \"\"\"\n",
    "Aşağıda bir hastanın acil servise başvuru bilgileri verilmiştir. Hastanın şikayetini tekrarla, vital bulgularını yorumla ve neden acil servise geldiğini açıkla.\n",
    "\n",
    "Şikayet: Göğüs ağrısı\n",
    "Yaş: 65\n",
    "Sistolik Kan Basıncı: 85 mmHg\n",
    "Diyastolik Kan Basıncı: 60 mmHg\n",
    "Nabız: 110 bpm\n",
    "Solunum Sayısı: 24 nefes/dk\n",
    "Vücut Isısı: 38.2 °C\n",
    "Ağrı Seviyesi: 8\n",
    "Bilinç Durumu: Uyanık\n",
    "Cinsiyet: Erkek\n",
    "Geliş Şekli: Ambulans\n",
    "Travma Durumu: Hayır\n",
    "\n",
    "Lütfen sonucu Türkçe olarak, anlaşılır ve kısa şekilde yaz.\n",
    "\"\"\"\n",
    "\n",
    "cevap = model.generate(prompt, max_tokens=200, temp=0.7)\n",
    "print(\"Model Cevabı:\\n\", cevap)\n"
   ]
  },
  {
   "cell_type": "code",
   "execution_count": null,
   "id": "804a7801-8c9b-4ed9-862d-22ca153e3b49",
   "metadata": {},
   "outputs": [],
   "source": []
  }
 ],
 "metadata": {
  "kernelspec": {
   "display_name": "Python 3 (ipykernel)",
   "language": "python",
   "name": "python3"
  },
  "language_info": {
   "codemirror_mode": {
    "name": "ipython",
    "version": 3
   },
   "file_extension": ".py",
   "mimetype": "text/x-python",
   "name": "python",
   "nbconvert_exporter": "python",
   "pygments_lexer": "ipython3",
   "version": "3.12.10"
  }
 },
 "nbformat": 4,
 "nbformat_minor": 5
}
