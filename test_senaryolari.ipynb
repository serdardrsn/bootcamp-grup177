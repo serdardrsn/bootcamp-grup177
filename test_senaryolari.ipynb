{
 "cells": [
  {
   "cell_type": "code",
   "execution_count": 19,
   "id": "decc9e19",
   "metadata": {},
   "outputs": [
    {
     "name": "stdout",
     "output_type": "stream",
     "text": [
      "KTAS Tahmini: Kırmızı\n"
     ]
    }
   ],
   "source": [
    "import requests\n",
    "\n",
    "test1 = {\n",
    "    \"age\": 85,\n",
    "    \"sbp\": 95,\n",
    "    \"dbp\": 60,\n",
    "    \"hr\": 110,\n",
    "    \"rr\": 24,\n",
    "    \"bt\": 39.0,\n",
    "    \"mental\": \"Yorgun\",\n",
    "    \"sex\": \"Kadın\",\n",
    "    \"arrival_mode\": \"Ambulans\",\n",
    "    \"injury\": \"Evet\",\n",
    "    \"pain\": 7\n",
    "}\n",
    "\n",
    "response = requests.post(\"http://127.0.0.1:8000/predict\", json=test1)\n",
    "result = response.json()\n",
    "\n",
    "print(\"KTAS Tahmini:\", result[\"ktas_tahmini\"])\n"
   ]
  },
  {
   "cell_type": "code",
   "execution_count": 20,
   "id": "ad5749f5",
   "metadata": {},
   "outputs": [
    {
     "name": "stdout",
     "output_type": "stream",
     "text": [
      "KTAS Tahmini (Test 2): Yeşil\n"
     ]
    }
   ],
   "source": [
    "test2 = {\n",
    "    \"age\": 28,\n",
    "    \"sbp\": 118,\n",
    "    \"dbp\": 75,\n",
    "    \"hr\": 82,\n",
    "    \"rr\": 18,\n",
    "    \"bt\": 36.7,\n",
    "    \"mental\": \"Uyanık\",\n",
    "    \"sex\": \"Erkek\",\n",
    "    \"arrival_mode\": \"Yürüyerek\",\n",
    "    \"injury\": \"Hayır\",\n",
    "    \"pain\": 3\n",
    "}\n",
    "\n",
    "response = requests.post(\"http://127.0.0.1:8000/predict\", json=test2)\n",
    "result = response.json()\n",
    "print(\"KTAS Tahmini (Test 2):\", result[\"ktas_tahmini\"])\n"
   ]
  },
  {
   "cell_type": "code",
   "execution_count": 21,
   "id": "b45dfb32",
   "metadata": {},
   "outputs": [
    {
     "name": "stdout",
     "output_type": "stream",
     "text": [
      "KTAS Tahmini (Test 3): Yeşil\n"
     ]
    }
   ],
   "source": [
    "test3 = {\n",
    "    \"age\": 67,\n",
    "    \"sbp\": 100,\n",
    "    \"dbp\": 65,\n",
    "    \"hr\": 95,\n",
    "    \"rr\": 22,\n",
    "    \"bt\": 37.8,\n",
    "    \"mental\": \"Sersemlemiş\",\n",
    "    \"sex\": \"Kadın\",\n",
    "    \"arrival_mode\": \"Ambulans\",\n",
    "    \"injury\": \"Evet\",\n",
    "    \"pain\": 5\n",
    "}\n",
    "\n",
    "response = requests.post(\"http://127.0.0.1:8000/predict\", json=test3)\n",
    "result = response.json()\n",
    "print(\"KTAS Tahmini (Test 3):\", result[\"ktas_tahmini\"])\n"
   ]
  },
  {
   "cell_type": "code",
   "execution_count": 22,
   "id": "d86b06b8",
   "metadata": {},
   "outputs": [
    {
     "name": "stdout",
     "output_type": "stream",
     "text": [
      "KTAS Tahmini (Test 4): Kırmızı\n"
     ]
    }
   ],
   "source": [
    "test4 = {\n",
    "    \"age\": 75,\n",
    "    \"sbp\": 100,\n",
    "    \"dbp\": 65,\n",
    "    \"hr\": 98,\n",
    "    \"rr\": 26,\n",
    "    \"bt\": 38.3,\n",
    "    \"mental\": \"Uyanık\",\n",
    "    \"sex\": \"Kadın\",\n",
    "    \"arrival_mode\": \"Ambulans\",\n",
    "    \"injury\": \"Hayır\",\n",
    "    \"pain\": 6\n",
    "}\n",
    "response = requests.post(\"http://127.0.0.1:8000/predict\", json=test4)\n",
    "result = response.json()\n",
    "print(\"KTAS Tahmini (Test 4):\", result[\"ktas_tahmini\"])\n",
    "\n",
    "# Yaşlı hasta, ateşi yüksek, solunumu hızlanmış ve ambulansla gelmiş.\n",
    "# Hayati tehlike sınırında olabilir. KTAS: “Turuncu” çıkabilir.\n"
   ]
  },
  {
   "cell_type": "code",
   "execution_count": 23,
   "id": "79dc7044",
   "metadata": {},
   "outputs": [
    {
     "name": "stdout",
     "output_type": "stream",
     "text": [
      "KTAS Tahmini (Test 5): Sarı\n"
     ]
    }
   ],
   "source": [
    "test5 = {\n",
    "    \"age\": 45,\n",
    "    \"sbp\": 115,\n",
    "    \"dbp\": 80,\n",
    "    \"hr\": 85,\n",
    "    \"rr\": 20,\n",
    "    \"bt\": 37.4,\n",
    "    \"mental\": \"Sersemlemiş\",\n",
    "    \"sex\": \"Erkek\",\n",
    "    \"arrival_mode\": \"Yürüyerek\",\n",
    "    \"injury\": \"Evet\",\n",
    "    \"pain\": 6\n",
    "}\n",
    "response = requests.post(\"http://127.0.0.1:8000/predict\", json=test5)\n",
    "result = response.json()\n",
    "print(\"KTAS Tahmini (Test 5):\", result[\"ktas_tahmini\"])\n",
    "\n",
    "# Bilinci biraz dalgın, yaralanmış ve ağrısı var.  \n",
    "# Vital bulgular stabil. Muhtemel KTAS seviyesi: “Sarı”.\n"
   ]
  },
  {
   "cell_type": "code",
   "execution_count": 24,
   "id": "b72700df",
   "metadata": {},
   "outputs": [
    {
     "name": "stdout",
     "output_type": "stream",
     "text": [
      "KTAS Tahmini (Test 6): Yeşil\n"
     ]
    }
   ],
   "source": [
    "test6 = {\n",
    "    \"age\": 19,\n",
    "    \"sbp\": 120,\n",
    "    \"dbp\": 80,\n",
    "    \"hr\": 76,\n",
    "    \"rr\": 18,\n",
    "    \"bt\": 36.5,\n",
    "    \"mental\": \"Uyanık\",\n",
    "    \"sex\": \"Erkek\",\n",
    "    \"arrival_mode\": \"Yürüyerek\",\n",
    "    \"injury\": \"Hayır\",\n",
    "    \"pain\": 1\n",
    "}\n",
    "response = requests.post(\"http://127.0.0.1:8000/predict\", json=test6)\n",
    "result = response.json()\n",
    "print(\"KTAS Tahmini (Test 6):\", result[\"ktas_tahmini\"])\n",
    "\n",
    "# Genç, tamamen stabil, bilinci açık ve ağrı bile neredeyse yok.  \n",
    "# KTAS seviyesi çok düşük: “Mavi” tahmini beklenir.\n"
   ]
  }
 ],
 "metadata": {
  "kernelspec": {
   "display_name": "base",
   "language": "python",
   "name": "python3"
  },
  "language_info": {
   "codemirror_mode": {
    "name": "ipython",
    "version": 3
   },
   "file_extension": ".py",
   "mimetype": "text/x-python",
   "name": "python",
   "nbconvert_exporter": "python",
   "pygments_lexer": "ipython3",
   "version": "3.12.7"
  }
 },
 "nbformat": 4,
 "nbformat_minor": 5
}
