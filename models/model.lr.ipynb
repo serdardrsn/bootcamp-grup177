{
 "cells": [
  {
   "cell_type": "code",
   "execution_count": 1,
   "id": "d822eaae-cf9c-4bcd-b6c0-2118c26aca6e",
   "metadata": {},
   "outputs": [],
   "source": [
    "import pandas as pd\n",
    "from sklearn.linear_model import LogisticRegression\n",
    "from sklearn.model_selection import train_test_split\n",
    "from sklearn.preprocessing import LabelEncoder\n",
    "import joblib\n",
    "from sklearn.metrics import accuracy_score, classification_report"
   ]
  },
  {
   "cell_type": "code",
   "execution_count": 4,
   "id": "9d82e8c1-08ee-49a8-b078-4213d16ece09",
   "metadata": {},
   "outputs": [
    {
     "name": "stdout",
     "output_type": "stream",
     "text": [
      "<class 'pandas.core.frame.DataFrame'>\n",
      "RangeIndex: 1267 entries, 0 to 1266\n",
      "Data columns (total 20 columns):\n",
      " #   Column                    Non-Null Count  Dtype \n",
      "---  ------                    --------------  ----- \n",
      " 0   Group                     1267 non-null   int64 \n",
      " 1   Sex                       1267 non-null   int64 \n",
      " 2   Age                       1267 non-null   int64 \n",
      " 3   Patients number per hour  1267 non-null   int64 \n",
      " 4   Arrival mode              1267 non-null   int64 \n",
      " 5   Injury                    1267 non-null   int64 \n",
      " 6   Mental                    1267 non-null   int64 \n",
      " 7   Pain                      1267 non-null   int64 \n",
      " 8   NRS_pain                  1267 non-null   object\n",
      " 9   SBP                       1267 non-null   object\n",
      " 10  DBP                       1267 non-null   object\n",
      " 11  HR                        1267 non-null   object\n",
      " 12  RR                        1267 non-null   object\n",
      " 13  BT                        1267 non-null   object\n",
      " 14  KTAS_RN                   1267 non-null   int64 \n",
      " 15  Disposition               1267 non-null   int64 \n",
      " 16  KTAS_expert               1267 non-null   int64 \n",
      " 17  Error_group               1267 non-null   int64 \n",
      " 18  Length of stay_min        1267 non-null   int64 \n",
      " 19  mistriage                 1267 non-null   int64 \n",
      "dtypes: int64(14), object(6)\n",
      "memory usage: 198.1+ KB\n"
     ]
    }
   ],
   "source": [
    "# Veriyi okuduk\n",
    "df = pd.read_csv(\"../data/data.csv\", sep=\";\", encoding=\"latin1\", decimal=\",\")\n",
    "\n",
    "# Modelde kullanmayacağımız sütunları çıkardık. \n",
    "df = df.drop(columns=[\"Chief_complain\", \"Diagnosis in ED\", \"Saturation\",\"KTAS duration_min\"], errors=\"ignore\")\n",
    "\n",
    "df.info()"
   ]
  },
  {
   "cell_type": "code",
   "execution_count": 5,
   "id": "baf9be5e-c89d-4880-a83f-db1ff92c9f3e",
   "metadata": {},
   "outputs": [
    {
     "name": "stdout",
     "output_type": "stream",
     "text": [
      "Eksik veri sayıları sütun bazında:\n",
      "Group                        0\n",
      "Sex                          0\n",
      "Age                          0\n",
      "Patients number per hour     0\n",
      "Arrival mode                 0\n",
      "Injury                       0\n",
      "Mental                       0\n",
      "Pain                         0\n",
      "NRS_pain                     0\n",
      "SBP                         25\n",
      "DBP                         29\n",
      "HR                          20\n",
      "RR                          22\n",
      "BT                          18\n",
      "KTAS_RN                      0\n",
      "Disposition                  0\n",
      "KTAS_expert                  0\n",
      "Error_group                  0\n",
      "Length of stay_min           0\n",
      "mistriage                    0\n",
      "dtype: int64\n"
     ]
    }
   ],
   "source": [
    "# NRS_pain sütunundaki #BOŞ! olarak belirtilen , acı hissetmeyen hastaların bulunduğu satırlara 0 ataması yaptık .\n",
    "df[\"NRS_pain\"] = df[\"NRS_pain\"].replace([\"#BOÞ!\"], 0)\n",
    "\n",
    "# Sayısal olması gereken sütunları dönüştürdük\n",
    "for col in [\"DBP\", \"BT\",\"NRS_pain\",\"SBP\",\"HR\",\"RR\"]:\n",
    "    df[col] = pd.to_numeric(df[col], errors=\"coerce\")\n",
    "\n",
    "# Eksik veri sayısını yazdırıyoruz\n",
    "print(\"Eksik veri sayıları sütun bazında:\")\n",
    "print(df.isnull().sum())  "
   ]
  },
  {
   "cell_type": "code",
   "execution_count": 6,
   "id": "a6231f0b-bd5e-4858-968b-ac565733a070",
   "metadata": {},
   "outputs": [],
   "source": [
    "# Eksik verilerin olduğu satırları modelimizi çok fazla etkilemeyeceği için çıkartıyoruz .\n",
    "df = df.dropna(subset=[\"SBP\", \"DBP\", \"HR\", \"RR\", \"BT\"])"
   ]
  },
  {
   "cell_type": "code",
   "execution_count": 7,
   "id": "bd919571-e577-4653-bd7e-bd83ca6ed47e",
   "metadata": {},
   "outputs": [],
   "source": [
    "def ktas_to_class(ktas_value):\n",
    "    if ktas_value in [1, 2]:\n",
    "        return \"Kırmızı\"\n",
    "    elif ktas_value == 3:\n",
    "        return \"Sarı\"\n",
    "    elif ktas_value in [4, 5]:\n",
    "        return \"Yeşil\"\n",
    "    else:\n",
    "        return \"Bilinmiyor\"\n",
    "\n",
    "df[\"ktas_class\"] = df[\"KTAS_RN\"].apply(ktas_to_class)"
   ]
  },
  {
   "cell_type": "code",
   "execution_count": 8,
   "id": "68af5ff4-c717-42d6-ba3f-e33b90acddf8",
   "metadata": {},
   "outputs": [],
   "source": [
    "# Risk skoru hesaplıyoruz\n",
    "def calculate_risk(row):\n",
    "    risk = 0\n",
    "    if row[\"BT\"] >= 38: risk += 1\n",
    "    if row[\"HR\"] >= 100: risk += 1\n",
    "    if row[\"Age\"] >= 70: risk += 1\n",
    "    return risk\n",
    "\n",
    "df[\"risk_score\"] = df.apply(calculate_risk, axis=1)"
   ]
  },
  {
   "cell_type": "code",
   "execution_count": 9,
   "id": "c309d93b-988f-40a4-9fd9-efae70ecf9ab",
   "metadata": {},
   "outputs": [
    {
     "name": "stdout",
     "output_type": "stream",
     "text": [
      "<class 'pandas.core.frame.DataFrame'>\n",
      "Index: 1233 entries, 0 to 1266\n",
      "Data columns (total 35 columns):\n",
      " #   Column                    Non-Null Count  Dtype  \n",
      "---  ------                    --------------  -----  \n",
      " 0   Group                     1233 non-null   int64  \n",
      " 1   Age                       1233 non-null   int64  \n",
      " 2   Patients number per hour  1233 non-null   int64  \n",
      " 3   NRS_pain                  1233 non-null   int64  \n",
      " 4   SBP                       1233 non-null   float64\n",
      " 5   DBP                       1233 non-null   float64\n",
      " 6   HR                        1233 non-null   float64\n",
      " 7   RR                        1233 non-null   float64\n",
      " 8   BT                        1233 non-null   float64\n",
      " 9   KTAS_RN                   1233 non-null   int64  \n",
      " 10  Disposition               1233 non-null   int64  \n",
      " 11  KTAS_expert               1233 non-null   int64  \n",
      " 12  Error_group               1233 non-null   int64  \n",
      " 13  Length of stay_min        1233 non-null   int64  \n",
      " 14  mistriage                 1233 non-null   int64  \n",
      " 15  ktas_class                1233 non-null   object \n",
      " 16  risk_score                1233 non-null   int64  \n",
      " 17  Sex_1                     1233 non-null   bool   \n",
      " 18  Sex_2                     1233 non-null   bool   \n",
      " 19  Arrival mode_1            1233 non-null   bool   \n",
      " 20  Arrival mode_2            1233 non-null   bool   \n",
      " 21  Arrival mode_3            1233 non-null   bool   \n",
      " 22  Arrival mode_4            1233 non-null   bool   \n",
      " 23  Arrival mode_5            1233 non-null   bool   \n",
      " 24  Arrival mode_6            1233 non-null   bool   \n",
      " 25  Arrival mode_7            1233 non-null   bool   \n",
      " 26  Injury_1                  1233 non-null   bool   \n",
      " 27  Injury_2                  1233 non-null   bool   \n",
      " 28  Mental_1                  1233 non-null   bool   \n",
      " 29  Mental_2                  1233 non-null   bool   \n",
      " 30  Mental_3                  1233 non-null   bool   \n",
      " 31  Mental_4                  1233 non-null   bool   \n",
      " 32  Pain_0                    1233 non-null   bool   \n",
      " 33  Pain_1                    1233 non-null   bool   \n",
      " 34  target                    1233 non-null   int32  \n",
      "dtypes: bool(17), float64(5), int32(1), int64(11), object(1)\n",
      "memory usage: 198.7+ KB\n"
     ]
    }
   ],
   "source": [
    "# Kategorik sütunları one-hot encode ettik\n",
    "df_encoded = pd.get_dummies(df, columns=[\"Sex\", \"Arrival mode\", \"Injury\", \"Mental\", \"Pain\"])\n",
    "\n",
    "# Hedef değişkeni encode ettik\n",
    "label_encoder = LabelEncoder()\n",
    "df_encoded[\"target\"] = label_encoder.fit_transform(df[\"ktas_class\"])\n",
    "\n",
    "df_encoded.info()"
   ]
  },
  {
   "cell_type": "code",
   "execution_count": 10,
   "id": "a7d3bf13-8c07-460c-a813-171c8ef27101",
   "metadata": {},
   "outputs": [
    {
     "name": "stdout",
     "output_type": "stream",
     "text": [
      "📊 Train Accuracy: 0.6592292089249493\n",
      "📊 Test Accuracy: 0.6072874493927125\n"
     ]
    }
   ],
   "source": [
    "\n",
    "# Model girdilerini ve hedef sütunu ayırıyoruz\n",
    "drop_cols = [\"ktas_class\",\"target\",\"KTAS_RN\",\"KTAS_expert\"]\n",
    "X = df_encoded.drop(columns=drop_cols)\n",
    "y = df_encoded[\"target\"]\n",
    "\n",
    "from sklearn.preprocessing import StandardScaler\n",
    "scaler = StandardScaler()\n",
    "X_scaled = scaler.fit_transform(X)\n",
    "\n",
    "# Veriyi eğitim ve test olarak ayırdık\n",
    "X_train, X_test, y_train, y_test = train_test_split(X_scaled, y, test_size=0.2, random_state=42)\n",
    "\n",
    "# Modeli eğitiyoruz\n",
    "model = LogisticRegression(max_iter=1000,solver=\"lbfgs\")\n",
    "model.fit(X_train, y_train)\n",
    "\n",
    "##\n",
    "train_pred = model.predict(X_train)\n",
    "test_pred = model.predict(X_test)\n",
    "from sklearn.metrics import accuracy_score, classification_report\n",
    "\n",
    "print(\"📊 Train Accuracy:\", accuracy_score(y_train, train_pred))\n",
    "print(\"📊 Test Accuracy:\", accuracy_score(y_test, test_pred))\n",
    "\n",
    "y_pred = model.predict(X_test)"
   ]
  },
  {
   "cell_type": "code",
   "execution_count": 11,
   "id": "1de19f73-a702-4206-bc73-6aaede982d9e",
   "metadata": {},
   "outputs": [
    {
     "name": "stdout",
     "output_type": "stream",
     "text": [
      "📊 Doğruluk (Accuracy): 0.61\n",
      "\n",
      "📋 Sınıflandırma Raporu:\n",
      "              precision    recall  f1-score   support\n",
      "\n",
      "     Kırmızı       0.57      0.27      0.36        45\n",
      "        Sarı       0.55      0.65      0.59        83\n",
      "       Yeşil       0.66      0.71      0.68       119\n",
      "\n",
      "    accuracy                           0.61       247\n",
      "   macro avg       0.59      0.54      0.55       247\n",
      "weighted avg       0.61      0.61      0.59       247\n",
      "\n",
      "✅ Model başarıyla kaydedildi.\n"
     ]
    }
   ],
   "source": [
    "acc = accuracy_score(y_test, y_pred)\n",
    "print(f\"📊 Doğruluk (Accuracy): {acc:.2f}\")\n",
    "print(\"\\n📋 Sınıflandırma Raporu:\")\n",
    "print(classification_report(y_test, y_pred, target_names=label_encoder.classes_))\n",
    "\n",
    "joblib.dump(model, \"model.joblib\")\n",
    "joblib.dump(label_encoder, \"label_encoder.joblib\")\n",
    "joblib.dump(X.columns.tolist(), \"feature_columns.joblib\")\n",
    "print(\"✅ Model başarıyla kaydedildi.\")"
   ]
  },
  {
   "cell_type": "code",
   "execution_count": null,
   "id": "8e580b0d-3e33-4432-8b89-d9879c035119",
   "metadata": {},
   "outputs": [],
   "source": []
  }
 ],
 "metadata": {
  "kernelspec": {
   "display_name": "Python 3 (ipykernel)",
   "language": "python",
   "name": "python3"
  },
  "language_info": {
   "codemirror_mode": {
    "name": "ipython",
    "version": 3
   },
   "file_extension": ".py",
   "mimetype": "text/x-python",
   "name": "python",
   "nbconvert_exporter": "python",
   "pygments_lexer": "ipython3",
   "version": "3.12.3"
  }
 },
 "nbformat": 4,
 "nbformat_minor": 5
}
